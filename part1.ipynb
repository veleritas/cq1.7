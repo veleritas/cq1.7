{
 "cells": [
  {
   "cell_type": "code",
   "execution_count": 55,
   "metadata": {
    "collapsed": true
   },
   "outputs": [],
   "source": [
    "import requests\n",
    "from itertools import chain"
   ]
  },
  {
   "cell_type": "code",
   "execution_count": 56,
   "metadata": {
    "collapsed": true
   },
   "outputs": [],
   "source": [
    "api_url = \"http://ec2-52-15-200-208.us-east-2.compute.amazonaws.com/\""
   ]
  },
  {
   "cell_type": "markdown",
   "metadata": {},
   "source": [
    "## Start with the HGNC symbols for the FA genes"
   ]
  },
  {
   "cell_type": "code",
   "execution_count": 57,
   "metadata": {},
   "outputs": [
    {
     "data": {
      "text/plain": [
       "22"
      ]
     },
     "execution_count": 57,
     "metadata": {},
     "output_type": "execute_result"
    }
   ],
   "source": [
    "fa_genes = ['FANCA', 'FANCB', 'FANCC', 'FANCE', 'FANCF', 'FANCG', 'FANCL', 'FANCM', 'FANCD2', 'FANCI', 'UBE2T', 'FANCD1', 'BRCA2', 'FANCJ', 'FANCN', 'FANCO', 'FANCP', 'FANCQ', 'FANCR', 'FANCS', 'FANCV', 'FANCU']\n",
    "len(fa_genes)"
   ]
  },
  {
   "cell_type": "markdown",
   "metadata": {},
   "source": [
    "### Get Wikidata ids for these HGNC symbols from wikidata using garbanzo"
   ]
  },
  {
   "cell_type": "code",
   "execution_count": 58,
   "metadata": {},
   "outputs": [],
   "source": [
    "c = ' '.join([\"HGNCS:\" + x for x in fa_genes])\n",
    "endpoint = \"translator/exactMatches/\"\n",
    "params = {'c': c}\n",
    "r = requests.get(api_url + endpoint, params=params)\n",
    "qids = [x for x in r.json() if \"wd\" in x]"
   ]
  },
  {
   "cell_type": "code",
   "execution_count": 59,
   "metadata": {},
   "outputs": [
    {
     "name": "stdout",
     "output_type": "stream",
     "text": [
      "['wd:Q17927471', 'wd:Q17927524', 'wd:Q17927056', 'wd:Q17927069', 'wd:Q18041564', 'wd:Q17927077', 'wd:Q18044458', 'wd:Q17927502', 'wd:Q17853272', 'wd:Q18041663', 'wd:Q18250517', 'wd:Q18039587']\n",
      "12\n"
     ]
    }
   ],
   "source": [
    "print(qids)\n",
    "print(len(qids))"
   ]
  },
  {
   "cell_type": "markdown",
   "metadata": {},
   "source": [
    "### Get all orthologs from wikidata using garbanzo"
   ]
  },
  {
   "cell_type": "code",
   "execution_count": 60,
   "metadata": {
    "collapsed": true
   },
   "outputs": [],
   "source": [
    "endpoint = 'translator/statements'\n",
    "params = {'emci': ' '.join(qids)}\n",
    "r = requests.get(api_url + endpoint, params=params)"
   ]
  },
  {
   "cell_type": "code",
   "execution_count": 61,
   "metadata": {},
   "outputs": [
    {
     "name": "stdout",
     "output_type": "stream",
     "text": [
      "35\n"
     ]
    }
   ],
   "source": [
    "ortholog_statements = [x for x in r.json()['dataPage'] if x['predicate']['name'] == \"ortholog\"]\n",
    "ortholog_qids = set(chain(*[(x['object']['id'], x['subject']['id']) for x in ortholog_statements]))\n",
    "print(len(ortholog_qids))"
   ]
  },
  {
   "cell_type": "code",
   "execution_count": 62,
   "metadata": {
    "collapsed": true
   },
   "outputs": [],
   "source": [
    "## Get ncbi gene ids for these 35\n",
    "endpoint = \"translator/exactMatches/\"\n",
    "params = {'c': ' '.join(ortholog_qids)}\n",
    "r = requests.get(api_url + endpoint, params=params)\n",
    "ncbi = [x for x in r.json() if \"NCBI\" in x]"
   ]
  },
  {
   "cell_type": "code",
   "execution_count": 63,
   "metadata": {},
   "outputs": [
    {
     "data": {
      "text/plain": [
       "['NCBIGene:360254',\n",
       " 'NCBIGene:2176',\n",
       " 'NCBIGene:2178',\n",
       " 'NCBIGene:72775',\n",
       " 'NCBIGene:499155',\n",
       " 'NCBIGene:55120',\n",
       " 'NCBIGene:305600',\n",
       " 'NCBIGene:309643',\n",
       " 'NCBIGene:2188',\n",
       " 'NCBIGene:237211',\n",
       " 'NCBIGene:2177',\n",
       " 'NCBIGene:211651',\n",
       " 'NCBIGene:361435',\n",
       " 'NCBIGene:312641',\n",
       " 'NCBIGene:67196',\n",
       " 'NCBIGene:14088',\n",
       " 'NCBIGene:2175',\n",
       " 'NCBIGene:57697',\n",
       " 'NCBIGene:12190',\n",
       " 'NCBIGene:14087',\n",
       " 'NCBIGene:208836',\n",
       " 'NCBIGene:675',\n",
       " 'NCBIGene:691105',\n",
       " 'NCBIGene:501552',\n",
       " 'NCBIGene:104806',\n",
       " 'NCBIGene:100040608',\n",
       " 'NCBIGene:2187',\n",
       " 'NCBIGene:60534',\n",
       " 'NCBIGene:2189',\n",
       " 'NCBIGene:100360594',\n",
       " 'NCBIGene:55215',\n",
       " 'NCBIGene:24361',\n",
       " 'NCBIGene:67030',\n",
       " 'NCBIGene:360847',\n",
       " 'NCBIGene:29089']"
      ]
     },
     "execution_count": 63,
     "metadata": {},
     "output_type": "execute_result"
    }
   ],
   "source": [
    "ncbi"
   ]
  }
 ],
 "metadata": {
  "kernelspec": {
   "display_name": "Python 3",
   "language": "python",
   "name": "python3"
  },
  "language_info": {
   "codemirror_mode": {
    "name": "ipython",
    "version": 3
   },
   "file_extension": ".py",
   "mimetype": "text/x-python",
   "name": "python",
   "nbconvert_exporter": "python",
   "pygments_lexer": "ipython3",
   "version": "3.5.2"
  }
 },
 "nbformat": 4,
 "nbformat_minor": 2
}
