{
 "cells": [
  {
   "cell_type": "markdown",
   "metadata": {},
   "source": [
    "# Look up human orthologs of non-human genes"
   ]
  },
  {
   "cell_type": "code",
   "execution_count": 1,
   "metadata": {
    "collapsed": true
   },
   "outputs": [],
   "source": [
    "import requests\n",
    "\n",
    "from tqdm import tqdm"
   ]
  },
  {
   "cell_type": "markdown",
   "metadata": {},
   "source": [
    "## Now that I have the genes, query for phenotypes\n",
    "\n",
    "Querying one at a time is way too slow (~1/s), so we will open multiple connections."
   ]
  },
  {
   "cell_type": "code",
   "execution_count": 2,
   "metadata": {
    "collapsed": true
   },
   "outputs": [],
   "source": [
    "genes = [\n",
    "    'NCBIGene:12189' # BRCA1 in mice\n",
    "]"
   ]
  },
  {
   "cell_type": "code",
   "execution_count": 3,
   "metadata": {},
   "outputs": [],
   "source": [
    "def query(gene_id):\n",
    "    \"\"\"Query Monarch to determine the human orthologs of a gene.\"\"\"\n",
    "    \n",
    "    url = \"https://api.monarchinitiative.org/api/bioentity/gene/{}/homologs/\".format(gene_id)\n",
    "    params = {\n",
    "        \"fetch_objects\": True,\n",
    "        \"rows\": 20,\n",
    "        \"homolog_taxon\": \"NCBITaxon:9606\" # humans\n",
    "    }\n",
    "    res = requests.get(url, params=params)\n",
    "    \n",
    "    return res.json()[\"objects\"]"
   ]
  },
  {
   "cell_type": "markdown",
   "metadata": {},
   "source": [
    "Assuming that the \"objects\" reponse object contains the results."
   ]
  },
  {
   "cell_type": "code",
   "execution_count": 4,
   "metadata": {},
   "outputs": [
    {
     "name": "stderr",
     "output_type": "stream",
     "text": [
      "100%|██████████| 1/1 [00:00<00:00,  1.66it/s]\n"
     ]
    }
   ],
   "source": [
    "orthologs = {\n",
    "    gene_id: query(gene_id)\n",
    "    for gene_id in tqdm(genes)\n",
    "}"
   ]
  },
  {
   "cell_type": "code",
   "execution_count": 5,
   "metadata": {},
   "outputs": [
    {
     "data": {
      "text/plain": [
       "{'NCBIGene:12189': ['NCBIGene:672']}"
      ]
     },
     "execution_count": 5,
     "metadata": {},
     "output_type": "execute_result"
    }
   ],
   "source": [
    "orthologs"
   ]
  },
  {
   "cell_type": "code",
   "execution_count": null,
   "metadata": {
    "collapsed": true
   },
   "outputs": [],
   "source": []
  }
 ],
 "metadata": {
  "kernelspec": {
   "display_name": "Python 3",
   "language": "python",
   "name": "python3"
  },
  "language_info": {
   "codemirror_mode": {
    "name": "ipython",
    "version": 3
   },
   "file_extension": ".py",
   "mimetype": "text/x-python",
   "name": "python",
   "nbconvert_exporter": "python",
   "pygments_lexer": "ipython3",
   "version": "3.5.3"
  }
 },
 "nbformat": 4,
 "nbformat_minor": 2
}
